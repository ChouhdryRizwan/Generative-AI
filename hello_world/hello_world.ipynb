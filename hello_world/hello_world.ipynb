{
 "cells": [
  {
   "cell_type": "markdown",
   "metadata": {},
   "source": [
    "# Lets start Generative-AI"
   ]
  },
  {
   "cell_type": "code",
   "execution_count": 2,
   "metadata": {},
   "outputs": [
    {
     "name": "stdout",
     "output_type": "stream",
     "text": [
      "Hello World in Generative-AI\n"
     ]
    }
   ],
   "source": [
    "print(\"Hello World in Generative-AI\")"
   ]
  },
  {
   "cell_type": "code",
   "execution_count": 3,
   "metadata": {},
   "outputs": [
    {
     "name": "stdout",
     "output_type": "stream",
     "text": [
      "Collecting python-dotenv (from -r requirements.txt (line 1))\n",
      "  Using cached python_dotenv-1.0.0-py3-none-any.whl (19 kB)\n",
      "Collecting openai (from -r requirements.txt (line 2))\n",
      "  Downloading openai-1.3.4-py3-none-any.whl.metadata (16 kB)\n",
      "Collecting anyio<4,>=3.5.0 (from openai->-r requirements.txt (line 2))\n",
      "  Using cached anyio-3.7.1-py3-none-any.whl.metadata (4.7 kB)\n",
      "Collecting distro<2,>=1.7.0 (from openai->-r requirements.txt (line 2))\n",
      "  Using cached distro-1.8.0-py3-none-any.whl (20 kB)\n",
      "Collecting httpx<1,>=0.23.0 (from openai->-r requirements.txt (line 2))\n",
      "  Using cached httpx-0.25.1-py3-none-any.whl.metadata (7.1 kB)\n",
      "Collecting pydantic<3,>=1.9.0 (from openai->-r requirements.txt (line 2))\n",
      "  Downloading pydantic-2.5.1-py3-none-any.whl.metadata (64 kB)\n",
      "     ---------------------------------------- 0.0/64.1 kB ? eta -:--:--\n",
      "     ---------------------------------------- 0.0/64.1 kB ? eta -:--:--\n",
      "     ------ --------------------------------- 10.2/64.1 kB ? eta -:--:--\n",
      "     ------------------ ------------------- 30.7/64.1 kB 325.1 kB/s eta 0:00:01\n",
      "     ------------------------------------ - 61.4/64.1 kB 469.7 kB/s eta 0:00:01\n",
      "     -------------------------------------- 64.1/64.1 kB 345.3 kB/s eta 0:00:00\n",
      "Collecting tqdm>4 (from openai->-r requirements.txt (line 2))\n",
      "  Using cached tqdm-4.66.1-py3-none-any.whl.metadata (57 kB)\n",
      "Requirement already satisfied: typing-extensions<5,>=4.5 in c:\\users\\dell\\anaconda3\\envs\\myopenai\\lib\\site-packages (from openai->-r requirements.txt (line 2)) (4.8.0)\n",
      "Collecting idna>=2.8 (from anyio<4,>=3.5.0->openai->-r requirements.txt (line 2))\n",
      "  Using cached idna-3.4-py3-none-any.whl (61 kB)\n",
      "Collecting sniffio>=1.1 (from anyio<4,>=3.5.0->openai->-r requirements.txt (line 2))\n",
      "  Using cached sniffio-1.3.0-py3-none-any.whl (10 kB)\n",
      "Collecting certifi (from httpx<1,>=0.23.0->openai->-r requirements.txt (line 2))\n",
      "  Downloading certifi-2023.11.17-py3-none-any.whl.metadata (2.2 kB)\n",
      "Collecting httpcore (from httpx<1,>=0.23.0->openai->-r requirements.txt (line 2))\n",
      "  Using cached httpcore-1.0.2-py3-none-any.whl.metadata (20 kB)\n",
      "Collecting annotated-types>=0.4.0 (from pydantic<3,>=1.9.0->openai->-r requirements.txt (line 2))\n",
      "  Using cached annotated_types-0.6.0-py3-none-any.whl.metadata (12 kB)\n",
      "Collecting pydantic-core==2.14.3 (from pydantic<3,>=1.9.0->openai->-r requirements.txt (line 2))\n",
      "  Downloading pydantic_core-2.14.3-cp312-none-win_amd64.whl.metadata (6.6 kB)\n",
      "Requirement already satisfied: colorama in c:\\users\\dell\\anaconda3\\envs\\myopenai\\lib\\site-packages (from tqdm>4->openai->-r requirements.txt (line 2)) (0.4.6)\n",
      "Collecting h11<0.15,>=0.13 (from httpcore->httpx<1,>=0.23.0->openai->-r requirements.txt (line 2))\n",
      "  Using cached h11-0.14.0-py3-none-any.whl (58 kB)\n",
      "Downloading openai-1.3.4-py3-none-any.whl (220 kB)\n",
      "   ---------------------------------------- 0.0/220.5 kB ? eta -:--:--\n",
      "   --------------------------- ------------ 153.6/220.5 kB 3.1 MB/s eta 0:00:01\n",
      "   ---------------------------------------- 220.5/220.5 kB 2.7 MB/s eta 0:00:00\n",
      "Using cached anyio-3.7.1-py3-none-any.whl (80 kB)\n",
      "Using cached httpx-0.25.1-py3-none-any.whl (75 kB)\n",
      "Downloading pydantic-2.5.1-py3-none-any.whl (381 kB)\n",
      "   ---------------------------------------- 0.0/381.6 kB ? eta -:--:--\n",
      "   ------------------ --------------------- 174.1/381.6 kB 3.5 MB/s eta 0:00:01\n",
      "   ---------------------------------------- 381.6/381.6 kB 3.4 MB/s eta 0:00:00\n",
      "Downloading pydantic_core-2.14.3-cp312-none-win_amd64.whl (1.9 MB)\n",
      "   ---------------------------------------- 0.0/1.9 MB ? eta -:--:--\n",
      "   --------- ------------------------------ 0.4/1.9 MB 8.7 MB/s eta 0:00:01\n",
      "   ---------------------- ----------------- 1.0/1.9 MB 8.3 MB/s eta 0:00:01\n",
      "   ----------------------------- ---------- 1.4/1.9 MB 7.1 MB/s eta 0:00:01\n",
      "   --------------------------------- ------ 1.6/1.9 MB 7.1 MB/s eta 0:00:01\n",
      "   ---------------------------------------  1.9/1.9 MB 7.0 MB/s eta 0:00:01\n",
      "   ---------------------------------------- 1.9/1.9 MB 5.9 MB/s eta 0:00:00\n",
      "Using cached tqdm-4.66.1-py3-none-any.whl (78 kB)\n",
      "Using cached annotated_types-0.6.0-py3-none-any.whl (12 kB)\n",
      "Downloading certifi-2023.11.17-py3-none-any.whl (162 kB)\n",
      "   ---------------------------------------- 0.0/162.5 kB ? eta -:--:--\n",
      "   ------------------------------------- -- 153.6/162.5 kB 4.6 MB/s eta 0:00:01\n",
      "   ---------------------------------------- 162.5/162.5 kB 2.0 MB/s eta 0:00:00\n",
      "Using cached httpcore-1.0.2-py3-none-any.whl (76 kB)\n",
      "Installing collected packages: tqdm, sniffio, python-dotenv, pydantic-core, idna, h11, distro, certifi, annotated-types, pydantic, httpcore, anyio, httpx, openai\n",
      "Successfully installed annotated-types-0.6.0 anyio-3.7.1 certifi-2023.11.17 distro-1.8.0 h11-0.14.0 httpcore-1.0.2 httpx-0.25.1 idna-3.4 openai-1.3.4 pydantic-2.5.1 pydantic-core-2.14.3 python-dotenv-1.0.0 sniffio-1.3.0 tqdm-4.66.1\n",
      "Note: you may need to restart the kernel to use updated packages.\n"
     ]
    }
   ],
   "source": [
    "%pip install -r requirements.txt"
   ]
  },
  {
   "cell_type": "code",
   "execution_count": 2,
   "metadata": {},
   "outputs": [],
   "source": [
    "from openai import OpenAI\n",
    "from dotenv import load_dotenv, find_dotenv\n",
    "\n",
    "_ : bool = load_dotenv(find_dotenv()) # read local .env file\n",
    "\n",
    "client : OpenAI = OpenAI()"
   ]
  },
  {
   "cell_type": "code",
   "execution_count": 3,
   "metadata": {},
   "outputs": [
    {
     "data": {
      "text/plain": [
       "'The capital of Pakistan is Islamabad.'"
      ]
     },
     "execution_count": 3,
     "metadata": {},
     "output_type": "execute_result"
    }
   ],
   "source": [
    "from openai.types.chat.chat_completion import ChatCompletion\n",
    "\n",
    "def chat_completion(prompt : str )-> str:\n",
    " response : ChatCompletion = client.chat.completions.create(\n",
    "        messages=[\n",
    "            {\n",
    "                \"role\": \"user\",\n",
    "                \"content\": prompt,\n",
    "            }\n",
    "        ],\n",
    "        model=\"gpt-3.5-turbo-1106\",\n",
    "    )\n",
    "# print(response)\n",
    "#  print(response.choices[0].message.content)\n",
    " return response.choices[0].message.content\n",
    "\n",
    "chat_completion(\"what is the capital of pakistan?\")"
   ]
  },
  {
   "cell_type": "code",
   "execution_count": null,
   "metadata": {},
   "outputs": [],
   "source": []
  }
 ],
 "metadata": {
  "kernelspec": {
   "display_name": "py311",
   "language": "python",
   "name": "python3"
  },
  "language_info": {
   "codemirror_mode": {
    "name": "ipython",
    "version": 3
   },
   "file_extension": ".py",
   "mimetype": "text/x-python",
   "name": "python",
   "nbconvert_exporter": "python",
   "pygments_lexer": "ipython3",
   "version": "3.12.0"
  }
 },
 "nbformat": 4,
 "nbformat_minor": 2
}
