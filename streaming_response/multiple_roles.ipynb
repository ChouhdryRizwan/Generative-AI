{
 "cells": [
  {
   "cell_type": "code",
   "execution_count": 1,
   "metadata": {},
   "outputs": [
    {
     "name": "stdout",
     "output_type": "stream",
     "text": [
      "Lets try wuth multiple roles.\n"
     ]
    }
   ],
   "source": [
    "print(\"Lets try wuth multiple roles.\")"
   ]
  },
  {
   "cell_type": "code",
   "execution_count": 2,
   "metadata": {},
   "outputs": [],
   "source": [
    "from openai import OpenAI\n",
    "from dotenv import load_dotenv, find_dotenv\n",
    "\n",
    "_ : bool = load_dotenv(find_dotenv()) # read local .env file\n",
    "\n",
    "client : OpenAI = OpenAI()\n",
    "\n"
   ]
  },
  {
   "cell_type": "code",
   "execution_count": 3,
   "metadata": {},
   "outputs": [
    {
     "name": "stdout",
     "output_type": "stream",
     "text": [
      "In the world of code, recursion is a gem,\n",
      "A concept that's grand, like a wild, winding stem.\n",
      "It's a loop within a loop, a dance of repetition,\n",
      "Unraveling problems with elegant ambition.\n",
      "\n",
      "Like a Russian doll, a puzzle within a puzzle,\n",
      "Recursion dives deep, with no need to muzzle.\n",
      "A function calls itself, oh what a sight,\n",
      "To solve intricate problems, with all its might.\n",
      "\n",
      "Like a mirror reflecting itself so fair,\n",
      "Recursion repeats, with a courageous flair.\n",
      "It breaks down problems, layer by layer,\n",
      "Till the base case is met, then it can declare.\n",
      "\n",
      "Through fractals and trees, and mazes so vast,\n",
      "Recursion conquers, with a spell it has cast.\n",
      "Infinite possibilities, in a loop so divine,\n",
      "Recursion dances in code, like a poem's rhyme.\n",
      "\n",
      "So embrace the beauty of this programming art,\n",
      "Let recursion inspire, and ignite your heart.\n",
      "For in the world of code, with its intricate mission,\n",
      "Recursion stands tall, a poetic vision.\n"
     ]
    }
   ],
   "source": [
    "from openai.types.chat.chat_completion import ChatCompletion\n",
    "\n",
    "def chat_completion()->str:\n",
    "  completion : ChatCompletion = client.chat.completions.create(\n",
    "    model  = \"gpt-3.5-turbo-1106\",\n",
    "    messages= [\n",
    "      {\"role\": \"system\", \"content\": \"You are a poetic assistant, skilled in explaining complex programming concepts with creative flair.\"},\n",
    "      {\"role\": \"user\", \"content\": \"Compose a poem that explains the concept of recursion in programming.\"}\n",
    "    ]\n",
    "  )\n",
    "\n",
    "  return completion.choices[0].message.content\n",
    "\n",
    "print(chat_completion())"
   ]
  },
  {
   "cell_type": "code",
   "execution_count": null,
   "metadata": {},
   "outputs": [],
   "source": []
  }
 ],
 "metadata": {
  "kernelspec": {
   "display_name": "myopenai",
   "language": "python",
   "name": "python3"
  },
  "language_info": {
   "codemirror_mode": {
    "name": "ipython",
    "version": 3
   },
   "file_extension": ".py",
   "mimetype": "text/x-python",
   "name": "python",
   "nbconvert_exporter": "python",
   "pygments_lexer": "ipython3",
   "version": "3.12.0"
  }
 },
 "nbformat": 4,
 "nbformat_minor": 2
}
